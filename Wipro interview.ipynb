{
 "cells": [
  {
   "cell_type": "code",
   "execution_count": null,
   "metadata": {},
   "outputs": [],
   "source": [
    "# write a program and share it over email to mushah@cisco.com"
   ]
  },
  {
   "cell_type": "code",
   "execution_count": null,
   "metadata": {},
   "outputs": [],
   "source": [
    "# Q1.\n",
    "# Ask the user to input a word:QUEUE\n",
    "\n",
    "# Input\n",
    "# - Find out all combinations of the substings\n",
    "#   QUEUE  ueue  eue  ue  e\n",
    "\n",
    "# Bonnie - all the substrings that start with a constant[QUEUE]\n",
    "# Clyde - all the substrings that start with a vowel[UEUE, EUE, UE, E]\n",
    "\n",
    "# Output:\n",
    "# Clyde wins with 4 strings over Bonnie who has 1 string.\n"
   ]
  },
  {
   "cell_type": "code",
   "execution_count": 1,
   "metadata": {},
   "outputs": [
    {
     "name": "stdout",
     "output_type": "stream",
     "text": [
      "Enter a word:queue\n",
      "Clyde wins with 4 strings over Bonnie who has 1 string.\n"
     ]
    }
   ],
   "source": [
    "word = input(\"Enter a word:\")\n",
    "bonnie = 0\n",
    "clyde = 0\n",
    "vowel = ['a', 'e', 'i', 'o', 'u']\n",
    "\n",
    "for i in word:\n",
    "    if i in vowel:\n",
    "        clyde += 1\n",
    "    else:\n",
    "        bonnie +=1\n",
    "\n",
    "if bonnie > clyde:\n",
    "    print(\"Bonnie wins with {0} strings over Clyde who has {1} string.\".format(bonnie, clyde))\n",
    "elif clyde > bonnie:\n",
    "    print(\"Clyde wins with {0} strings over Bonnie who has {1} string.\".format(clyde, bonnie))\n",
    "else:\n",
    "    print(\"Clyde and Bonnie draw with {0} strings.\".format(clyde))"
   ]
  },
  {
   "cell_type": "code",
   "execution_count": null,
   "metadata": {},
   "outputs": [],
   "source": [
    "# Q2.\n",
    "# Extract the following from test.xml\n",
    "\n",
    "# 1.Domains - www.test.com, www.bsnf.com\n",
    "# 2.Ip addresses - 172.11.78.99"
   ]
  },
  {
   "cell_type": "code",
   "execution_count": 2,
   "metadata": {},
   "outputs": [],
   "source": [
    "text = open(\"test.xml\", \"r\")"
   ]
  },
  {
   "cell_type": "code",
   "execution_count": 3,
   "metadata": {},
   "outputs": [],
   "source": [
    "text = text.read()"
   ]
  },
  {
   "cell_type": "code",
   "execution_count": 15,
   "metadata": {},
   "outputs": [],
   "source": [
    "if (text.startswith((\"www.\")) and text.endswith((\".com\", \".org\"))):\n",
    "    print(text)"
   ]
  },
  {
   "cell_type": "code",
   "execution_count": 8,
   "metadata": {},
   "outputs": [
    {
     "name": "stdout",
     "output_type": "stream",
     "text": [
      "[('locom', 'com')]\n"
     ]
    }
   ],
   "source": [
    "import re\n",
    "matches = re.findall(r'\\s(?:www.)?(\\w+.(com|org|net))', text)\n",
    "print(matches)"
   ]
  },
  {
   "cell_type": "code",
   "execution_count": 11,
   "metadata": {},
   "outputs": [
    {
     "name": "stdout",
     "output_type": "stream",
     "text": [
      "['website1.com', 'website2.com']\n"
     ]
    }
   ],
   "source": [
    "import re\n",
    "\n",
    "s = 'this is www.website1.com and this is www.website2.com'\n",
    "\n",
    "matches = re.findall(r'\\s(?:www.)?(\\w+.com)', s)\n",
    "print(matches)"
   ]
  },
  {
   "cell_type": "code",
   "execution_count": 9,
   "metadata": {},
   "outputs": [
    {
     "name": "stdout",
     "output_type": "stream",
     "text": [
      "website1.com\n"
     ]
    }
   ],
   "source": [
    "import re\n",
    "s = \"www.website1.com\"\n",
    "k = re.findall ( '(www.)?(.*?)$', s, re.DOTALL)[0][1]\n",
    "print(k)"
   ]
  },
  {
   "cell_type": "code",
   "execution_count": null,
   "metadata": {},
   "outputs": [],
   "source": []
  }
 ],
 "metadata": {
  "kernelspec": {
   "display_name": "Python 3",
   "language": "python",
   "name": "python3"
  },
  "language_info": {
   "codemirror_mode": {
    "name": "ipython",
    "version": 3
   },
   "file_extension": ".py",
   "mimetype": "text/x-python",
   "name": "python",
   "nbconvert_exporter": "python",
   "pygments_lexer": "ipython3",
   "version": "3.8.5"
  }
 },
 "nbformat": 4,
 "nbformat_minor": 4
}
