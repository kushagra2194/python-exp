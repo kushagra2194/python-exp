{
 "cells": [
  {
   "cell_type": "code",
   "execution_count": 1,
   "metadata": {},
   "outputs": [],
   "source": [
    "# lst = [1,2,3,4]\n",
    "\n",
    "# fx(lst) => 0\n",
    "\n",
    "\n",
    "\n",
    "# lst = [1,2,3,1,2,3,4]\n",
    "\n",
    "# fx(lst) => 3\n",
    "\n",
    "\n",
    "\n",
    "# lst = [1,1,1,1,1,1,1]\n",
    "\n",
    "# fx(lst) => 1\n",
    "\n",
    "\n",
    "\n",
    "# lst = \"Test\"\n",
    "\n",
    "# fx(lst) => False"
   ]
  },
  {
   "cell_type": "code",
   "execution_count": 3,
   "metadata": {},
   "outputs": [
    {
     "data": {
      "text/plain": [
       "4"
      ]
     },
     "execution_count": 3,
     "metadata": {},
     "output_type": "execute_result"
    }
   ],
   "source": [
    "def fx(lst):\n",
    "    occurance = []\n",
    "    if type(lst) == list:\n",
    "        for i in lst:\n",
    "            if not i in occurance:\n",
    "                occurance.append(i)\n",
    "        return len(occurance)\n",
    "    else:\n",
    "        return False\n",
    "\n",
    "lst =  [1,2,3,1,2,3,4]\n",
    "fx(lst)"
   ]
  },
  {
   "cell_type": "code",
   "execution_count": null,
   "metadata": {},
   "outputs": [],
   "source": []
  }
 ],
 "metadata": {
  "kernelspec": {
   "display_name": "Python 3",
   "language": "python",
   "name": "python3"
  },
  "language_info": {
   "codemirror_mode": {
    "name": "ipython",
    "version": 3
   },
   "file_extension": ".py",
   "mimetype": "text/x-python",
   "name": "python",
   "nbconvert_exporter": "python",
   "pygments_lexer": "ipython3",
   "version": "3.8.5"
  }
 },
 "nbformat": 4,
 "nbformat_minor": 4
}
