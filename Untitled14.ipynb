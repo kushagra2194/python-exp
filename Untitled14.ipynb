{
 "cells": [
  {
   "cell_type": "code",
   "execution_count": null,
   "metadata": {},
   "outputs": [],
   "source": [
    "a = {'b':3,'c':4,\"d\":5}"
   ]
  },
  {
   "cell_type": "code",
   "execution_count": null,
   "metadata": {},
   "outputs": [],
   "source": [
    "a.get('e',\"\")"
   ]
  },
  {
   "cell_type": "code",
   "execution_count": null,
   "metadata": {},
   "outputs": [],
   "source": [
    "len()"
   ]
  },
  {
   "cell_type": "code",
   "execution_count": null,
   "metadata": {},
   "outputs": [],
   "source": [
    "# student\n",
    "#     group FK\n",
    "\n",
    "# group\n",
    "\n",
    "# group\n",
    "# student.objects.filter(group=group)"
   ]
  },
  {
   "cell_type": "code",
   "execution_count": 17,
   "metadata": {},
   "outputs": [
    {
     "name": "stdout",
     "output_type": "stream",
     "text": [
      "  *     \n",
      "* *     \n",
      "* *   * \n",
      "* *   * \n",
      "* * * * \n"
     ]
    }
   ],
   "source": [
    "# input==>\n",
    "# output\n",
    "#    *  \n",
    "# *  *  \n",
    "# *  *     *\n",
    "# *  *     *\n",
    "# *  *  *  *\n",
    "\n",
    "l = [4, 5, 1, 3]\n",
    "max_l = max(l)\n",
    "for i in range(max_l):\n",
    "    for j in l:\n",
    "        if j >= max_l:\n",
    "            print(\"*\", end=\" \")\n",
    "        else:\n",
    "            print(\" \", end=\" \")\n",
    "    max_l = max_l-1\n",
    "    print()"
   ]
  },
  {
   "cell_type": "code",
   "execution_count": null,
   "metadata": {},
   "outputs": [],
   "source": [
    "# 8 identical balls \n",
    "# 7 ball weight equal\n",
    "# 1 ball is different weight\n",
    "\n",
    "\n",
    "\n",
    "# 200 meters\n",
    "\n",
    "# hook at 200m\n",
    "# hook at 100m\n",
    "\n",
    "# 150 meter rope\n",
    "# knife\n",
    "\n",
    "\n"
   ]
  }
 ],
 "metadata": {
  "kernelspec": {
   "display_name": "Python 3",
   "language": "python",
   "name": "python3"
  },
  "language_info": {
   "codemirror_mode": {
    "name": "ipython",
    "version": 3
   },
   "file_extension": ".py",
   "mimetype": "text/x-python",
   "name": "python",
   "nbconvert_exporter": "python",
   "pygments_lexer": "ipython3",
   "version": "3.8.5"
  }
 },
 "nbformat": 4,
 "nbformat_minor": 4
}
