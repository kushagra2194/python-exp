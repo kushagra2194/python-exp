{
 "cells": [
  {
   "cell_type": "code",
   "execution_count": 17,
   "metadata": {},
   "outputs": [],
   "source": [
    "import psycopg2\n",
    "# conn = psycopg2.connect('database=\"postgres\", user=\"odinson\", password=\"G0dOfThund3r\", port=5432')\n",
    "conn = psycopg2.connect(\"dbname='kalkine_vendor_framework1' user='odinson' host='uat-db.cluster-cjl2huraangr.us-east-1.rds.amazonaws.com' password='G0dOfThund3r'\")"
   ]
  },
  {
   "cell_type": "code",
   "execution_count": 18,
   "metadata": {},
   "outputs": [
    {
     "data": {
      "text/plain": [
       "<connection object at 0x00000157559D5E10; dsn: 'user=odinson password=xxx dbname=kalkine_vendor_framework1 host=uat-db.cluster-cjl2huraangr.us-east-1.rds.amazonaws.com', closed: 0>"
      ]
     },
     "execution_count": 18,
     "metadata": {},
     "output_type": "execute_result"
    }
   ],
   "source": [
    "conn"
   ]
  },
  {
   "cell_type": "code",
   "execution_count": 19,
   "metadata": {},
   "outputs": [],
   "source": [
    "conn.close()"
   ]
  },
  {
   "cell_type": "code",
   "execution_count": 21,
   "metadata": {},
   "outputs": [
    {
     "data": {
      "text/plain": [
       "<connection object at 0x00000157559D5E10; dsn: 'user=odinson password=xxx dbname=kalkine_vendor_framework1 host=uat-db.cluster-cjl2huraangr.us-east-1.rds.amazonaws.com', closed: 1>"
      ]
     },
     "execution_count": 21,
     "metadata": {},
     "output_type": "execute_result"
    }
   ],
   "source": [
    "conn"
   ]
  },
  {
   "cell_type": "code",
   "execution_count": 22,
   "metadata": {},
   "outputs": [
    {
     "name": "stdout",
     "output_type": "stream",
     "text": [
      "Give amount: 12\n",
      "[0, 1, 1, 2, 3, 5, 8, 13, 21, 34, 55, 89]\n"
     ]
    }
   ],
   "source": [
    "a = int(input('Give amount: '))\n",
    "\n",
    "def fib(n):\n",
    "    a, b = 0, 1\n",
    "    for _ in range(n):\n",
    "        yield a\n",
    "        a, b = b, a + b\n",
    "\n",
    "print(list(fib(a)))"
   ]
  },
  {
   "cell_type": "code",
   "execution_count": 23,
   "metadata": {},
   "outputs": [],
   "source": [
    "s = \"banana\"\n",
    "stuart = kevin = \"\""
   ]
  },
  {
   "cell_type": "code",
   "execution_count": 37,
   "metadata": {},
   "outputs": [
    {
     "name": "stdout",
     "output_type": "stream",
     "text": [
      "enter a positive number10\n",
      "[0, 1, 1, 2, 3, 5, 8, 13, 21, 34]\n"
     ]
    }
   ],
   "source": [
    "a = int(input(\"enter a positive number\"))\n",
    "\n",
    "def fib(a):\n",
    "    i = 0\n",
    "    j = 1\n",
    "    for b in range(a):\n",
    "        yield i\n",
    "#         i = j\n",
    "#         j = i + j\n",
    "        i, j = j, i+j\n",
    "    \n",
    "print(list(fib(a)))"
   ]
  },
  {
   "cell_type": "code",
   "execution_count": 40,
   "metadata": {},
   "outputs": [
    {
     "name": "stdout",
     "output_type": "stream",
     "text": [
      "test\n",
      "['t', 'e', 's', 't']\n"
     ]
    }
   ],
   "source": [
    "def minion_game(string):\n",
    "    # your code goes here\n",
    "    word_list = list(string)\n",
    "    print(word_list)\n",
    "\n",
    "if __name__ == '__main__':\n",
    "    s = input()\n",
    "    minion_game(s)"
   ]
  },
  {
   "cell_type": "code",
   "execution_count": null,
   "metadata": {},
   "outputs": [],
   "source": []
  }
 ],
 "metadata": {
  "kernelspec": {
   "display_name": "Python 3",
   "language": "python",
   "name": "python3"
  },
  "language_info": {
   "codemirror_mode": {
    "name": "ipython",
    "version": 3
   },
   "file_extension": ".py",
   "mimetype": "text/x-python",
   "name": "python",
   "nbconvert_exporter": "python",
   "pygments_lexer": "ipython3",
   "version": "3.8.5"
  }
 },
 "nbformat": 4,
 "nbformat_minor": 4
}
