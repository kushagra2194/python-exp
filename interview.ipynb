{
 "cells": [
  {
   "cell_type": "code",
   "execution_count": 2,
   "metadata": {},
   "outputs": [],
   "source": [
    "# QUESTION 1\n",
    "\n",
    "# GIVEN A LIST x = [3,4,5,6,7]\n",
    "\n",
    "# GENERATE THE FOLLOWING OUTPUT:\n",
    "\n",
    "# [15,20,25,30,35]\n",
    "\n",
    "# (A) USING FOR LOOP\n",
    "\n",
    "# (B) USING LIST COMPREHENSION\n",
    "\n",
    "# (C) USING LAMBDA FUNCTION (HINT: USE map())"
   ]
  },
  {
   "cell_type": "code",
   "execution_count": 5,
   "metadata": {},
   "outputs": [],
   "source": [
    "x = [3,4,5,6,7]\n",
    "y = []"
   ]
  },
  {
   "cell_type": "code",
   "execution_count": 6,
   "metadata": {},
   "outputs": [],
   "source": [
    "for i in x:\n",
    "    y.append(i*5)"
   ]
  },
  {
   "cell_type": "code",
   "execution_count": 7,
   "metadata": {},
   "outputs": [
    {
     "name": "stdout",
     "output_type": "stream",
     "text": [
      "[15, 20, 25, 30, 35]\n"
     ]
    }
   ],
   "source": [
    "print(y)"
   ]
  },
  {
   "cell_type": "code",
   "execution_count": 11,
   "metadata": {},
   "outputs": [],
   "source": [
    "def multiply(a):\n",
    "    return a*5\n",
    "\n",
    "y = map(multiply, x)"
   ]
  },
  {
   "cell_type": "code",
   "execution_count": 12,
   "metadata": {},
   "outputs": [
    {
     "name": "stdout",
     "output_type": "stream",
     "text": [
      "<map object at 0x000001A420E83280>\n"
     ]
    }
   ],
   "source": [
    "print(y)"
   ]
  },
  {
   "cell_type": "code",
   "execution_count": 13,
   "metadata": {},
   "outputs": [],
   "source": [
    "# QUESTION 2\n",
    "\n",
    "# GIVEN A LIST x = [3,3,4,3,5,5,6,7]\n",
    "\n",
    "# CREATE A DICTIONARY WITH EACH UNIQUE VALUE AS THE KEY\n",
    "\n",
    "# AND THE NUMBER OF OCCURRENCES AS ITS VALUE\n",
    "\n",
    "# STORE THE DICTIONARY KEY AND VALUES IN THE VARIABLE \"value_count_dict\"\n",
    "\n",
    "# E.G.: OUTPUT: [{3: 3}, {4: 1}, {5: 2}, {6: 1}, {7: 1}]\n",
    "\n",
    "# DO NOT USE PYTHON'S BUILT-IN MODULE \"collections\"\n",
    "\n",
    "# (A) USING FOR LOOP\n",
    "\n",
    "# (B) USING LIST COMPREHENSION"
   ]
  },
  {
   "cell_type": "code",
   "execution_count": 17,
   "metadata": {},
   "outputs": [],
   "source": [
    "x = [3,3,4,3,5,5,6,7]\n",
    "y = {}"
   ]
  },
  {
   "cell_type": "code",
   "execution_count": 18,
   "metadata": {},
   "outputs": [],
   "source": [
    "for i in x:\n",
    "    if i in y:\n",
    "        y[i] += 1\n",
    "    else:\n",
    "        y[i] = 1"
   ]
  },
  {
   "cell_type": "code",
   "execution_count": 19,
   "metadata": {},
   "outputs": [
    {
     "name": "stdout",
     "output_type": "stream",
     "text": [
      "{3: 3, 4: 1, 5: 2, 6: 1, 7: 1}\n"
     ]
    }
   ],
   "source": [
    "print(y)"
   ]
  },
  {
   "cell_type": "code",
   "execution_count": 20,
   "metadata": {},
   "outputs": [],
   "source": [
    "from collections import Counter"
   ]
  },
  {
   "cell_type": "code",
   "execution_count": 21,
   "metadata": {},
   "outputs": [
    {
     "data": {
      "text/plain": [
       "Counter({3: 3, 4: 1, 5: 2, 6: 1, 7: 1})"
      ]
     },
     "execution_count": 21,
     "metadata": {},
     "output_type": "execute_result"
    }
   ],
   "source": [
    "Counter(x)"
   ]
  },
  {
   "cell_type": "code",
   "execution_count": 22,
   "metadata": {},
   "outputs": [],
   "source": [
    "# QUESTION 3\n",
    "\n",
    "# Generate a list of numbers from 1 through 100 (hint: Use the \"range\" function)\n",
    "\n",
    "# Store all even numbers in a variable called \"even_numbers\"\n",
    "\n",
    "# using list comprehension"
   ]
  },
  {
   "cell_type": "code",
   "execution_count": 26,
   "metadata": {},
   "outputs": [],
   "source": [
    "even_numbers = []"
   ]
  },
  {
   "cell_type": "code",
   "execution_count": 27,
   "metadata": {},
   "outputs": [
    {
     "name": "stdout",
     "output_type": "stream",
     "text": [
      "[2, 4, 6, 8, 10, 12, 14, 16, 18, 20, 22, 24, 26, 28, 30, 32, 34, 36, 38, 40, 42, 44, 46, 48, 50, 52, 54, 56, 58, 60, 62, 64, 66, 68, 70, 72, 74, 76, 78, 80, 82, 84, 86, 88, 90, 92, 94, 96, 98, 100]\n"
     ]
    }
   ],
   "source": [
    "for i in range(1, 101):\n",
    "    if i % 2 == 0:\n",
    "        even_numbers.append(i)\n",
    "print(even_numbers)\n",
    "# [i*5 for i in x]"
   ]
  },
  {
   "cell_type": "code",
   "execution_count": 31,
   "metadata": {},
   "outputs": [],
   "source": [
    "even_numbers = [i for i in range(1,101) if i % 2 == 0]"
   ]
  },
  {
   "cell_type": "code",
   "execution_count": 32,
   "metadata": {},
   "outputs": [
    {
     "name": "stdout",
     "output_type": "stream",
     "text": [
      "[2, 4, 6, 8, 10, 12, 14, 16, 18, 20, 22, 24, 26, 28, 30, 32, 34, 36, 38, 40, 42, 44, 46, 48, 50, 52, 54, 56, 58, 60, 62, 64, 66, 68, 70, 72, 74, 76, 78, 80, 82, 84, 86, 88, 90, 92, 94, 96, 98, 100]\n"
     ]
    }
   ],
   "source": [
    "print(even_numbers)"
   ]
  },
  {
   "cell_type": "code",
   "execution_count": 33,
   "metadata": {},
   "outputs": [],
   "source": [
    "# QUESTION 4\n",
    "\n",
    "# Generate a list of 10 randon numbers (hint: from random import randint)\n",
    "\n",
    "# The range for the random numbers is 1 through 1000\n",
    "\n",
    "# Store the square of each randon number in a list called \"random_squares\"\n",
    "\n",
    "# Using list comprehension"
   ]
  },
  {
   "cell_type": "code",
   "execution_count": 36,
   "metadata": {},
   "outputs": [],
   "source": [
    "from random import randint\n",
    "a = [randint(1, 1000) for i in range(10)]"
   ]
  },
  {
   "cell_type": "code",
   "execution_count": 37,
   "metadata": {},
   "outputs": [
    {
     "data": {
      "text/plain": [
       "[749, 708, 912, 885, 751, 914, 961, 913, 953, 979]"
      ]
     },
     "execution_count": 37,
     "metadata": {},
     "output_type": "execute_result"
    }
   ],
   "source": [
    "a"
   ]
  },
  {
   "cell_type": "code",
   "execution_count": 38,
   "metadata": {},
   "outputs": [],
   "source": [
    "random_squares = [i*i for i in a]"
   ]
  },
  {
   "cell_type": "code",
   "execution_count": 39,
   "metadata": {},
   "outputs": [
    {
     "name": "stdout",
     "output_type": "stream",
     "text": [
      "[561001, 501264, 831744, 783225, 564001, 835396, 923521, 833569, 908209, 958441]\n"
     ]
    }
   ],
   "source": [
    "print(random_squares)"
   ]
  },
  {
   "cell_type": "code",
   "execution_count": 40,
   "metadata": {},
   "outputs": [],
   "source": [
    "# QUESTION 11\n",
    "\n",
    "# READ THE CSV FILE \"framingham.csv\" USING \"import csv\"\n",
    "\n",
    "# GET THE HEADERS\n",
    "\n",
    "# GET THE DATA FOR EACH ROW\n",
    "\n",
    "# SAVE THE DATA INTO A LIST OF DICTIONARY CALLED \"my_list_of_dictionary\"\n",
    "\n",
    "# EACH EACH LIST ITEM MUST INCLUDE THE ROW COUNT AS \"record_count\"\n",
    "\n",
    "# {\n",
    "\n",
    "#   \"record_count\": 1,\n",
    "\n",
    "#   \"male\": \"1\",\n",
    "\n",
    "#   \"age\": \"39\",\n",
    "\n",
    "#   \"education\": \"4\",\n",
    "\n",
    "#   \"currentSmoker\": \"0\",\n",
    "\n",
    "#   \"cigsPerDay\": \"0\",\n",
    "\n",
    "#   \"BPMeds\": \"0\",\n",
    "\n",
    "#   \"prevalentStroke\": \"0\",\n",
    "\n",
    "#   \"prevalentHyp\": \"0\",\n",
    "\n",
    "#   \"diabetes\": \"0\",\n",
    "\n",
    "#   \"totChol\": \"195\",\n",
    "\n",
    "#   \"sysBP\": \"106\",\n",
    "\n",
    "#   \"diaBP\": \"70\",\n",
    "\n",
    "#   \"BMI\": \"26.97\",\n",
    "\n",
    "#   \"heartRate\": \"80\",\n",
    "\n",
    "#   \"glucose\": \"77\",\n",
    "\n",
    "#   \"TenYearCHD\": \"0\"\n",
    "\n",
    "# }\n",
    "\n",
    "# SAVE THE DATA AS A JSON FILE"
   ]
  },
  {
   "cell_type": "code",
   "execution_count": 20,
   "metadata": {},
   "outputs": [],
   "source": [
    "import csv"
   ]
  },
  {
   "cell_type": "code",
   "execution_count": 21,
   "metadata": {},
   "outputs": [],
   "source": [
    "file = open('framingham.csv')\n",
    "csvreader = csv.reader(file)"
   ]
  },
  {
   "cell_type": "code",
   "execution_count": 22,
   "metadata": {},
   "outputs": [
    {
     "name": "stdout",
     "output_type": "stream",
     "text": [
      "<_csv.reader object at 0x0000024DDD615A00>\n"
     ]
    }
   ],
   "source": [
    "print(csvreader)"
   ]
  },
  {
   "cell_type": "code",
   "execution_count": 23,
   "metadata": {},
   "outputs": [],
   "source": [
    "header = []\n",
    "header = next(csvreader)\n",
    "# header\n",
    "\n",
    "my_list_of_dictionary_csv = []\n",
    "for row in csvreader:\n",
    "    my_list_of_dictionary.append(row)\n"
   ]
  },
  {
   "cell_type": "code",
   "execution_count": 24,
   "metadata": {},
   "outputs": [],
   "source": [
    "my_list_of_dictionary = []\n",
    "my_dict = {}\n",
    "i = 1\n",
    "for row in my_list_of_dictionary_csv:\n",
    "    my_dict['record_count'] = i\n",
    "    i += 1\n",
    "    for i in range(len(row)):\n",
    "        my_dict[header[i]] = row[i]\n",
    "    my_list_of_dictionary.append(my_dict)"
   ]
  },
  {
   "cell_type": "code",
   "execution_count": 25,
   "metadata": {},
   "outputs": [
    {
     "data": {
      "text/plain": [
       "[]"
      ]
     },
     "execution_count": 25,
     "metadata": {},
     "output_type": "execute_result"
    }
   ],
   "source": [
    "my_list_of_dictionary"
   ]
  },
  {
   "cell_type": "code",
   "execution_count": 72,
   "metadata": {},
   "outputs": [],
   "source": [
    "# QUESTION 10\n",
    "\n",
    "# CREATE A \"User\" CLASS\n",
    "\n",
    "#   ATTRIBUTES:\n",
    "\n",
    "#       name, age, gender, educational_qualification, balance\n",
    "\n",
    "#   METHODS: None\n",
    "\n",
    "# CREATE A \"Banking\" CLASS\n",
    "\n",
    "# MUST INHERIT EVERYTHING FROM \"User\"\n",
    "\n",
    "#   METHODS:\n",
    "\n",
    "#       deposit, withdraw:\n",
    "\n",
    "#       DISPLAY BALANCE EVERY TIME ANY OF THESE FUNCTIONS EXECUTE"
   ]
  },
  {
   "cell_type": "code",
   "execution_count": 3,
   "metadata": {},
   "outputs": [
    {
     "name": "stdout",
     "output_type": "stream",
     "text": [
      "enter the amount you want to deposit\n",
      "10000\n",
      "current balance: 20000\n",
      "enter the amount you want to withdraw\n",
      "200000\n",
      "Low Balance\n"
     ]
    }
   ],
   "source": [
    "class User():\n",
    "    name = \"Kushagra\"\n",
    "    age = 27\n",
    "    gender = \"Male\"\n",
    "    educational_qualification = \"BCA\"  \n",
    "    balance = 10000\n",
    "    \n",
    "class Banking(User):\n",
    "    def deposit(self):\n",
    "        print(\"enter the amount you want to deposit\")\n",
    "        amount = int(input())\n",
    "        print(\"current balance: {}\".format(self.balance+amount))\n",
    "        \n",
    "    def withdraw(self):\n",
    "        print(\"enter the amount you want to withdraw\")\n",
    "        amount = int(input())\n",
    "        if self.balance > amount:\n",
    "            print(\"current balance: {}\".format(self.balance-amount))\n",
    "        else:\n",
    "            print(\"Low Balance\")\n",
    "    \n",
    "bank = Banking()\n",
    "bank.deposit()\n",
    "bank.withdraw()"
   ]
  },
  {
   "cell_type": "code",
   "execution_count": null,
   "metadata": {},
   "outputs": [],
   "source": []
  },
  {
   "cell_type": "code",
   "execution_count": null,
   "metadata": {},
   "outputs": [],
   "source": []
  }
 ],
 "metadata": {
  "kernelspec": {
   "display_name": "Python 3",
   "language": "python",
   "name": "python3"
  }
 },
 "nbformat": 4,
 "nbformat_minor": 4
}
