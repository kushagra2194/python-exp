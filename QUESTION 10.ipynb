{
 "cells": [
  {
   "cell_type": "markdown",
   "metadata": {},
   "source": [
    "<!-- # QUESTION 10\n",
    "\n",
    "# CREATE A \"User\" CLASS\n",
    "\n",
    "#   ATTRIBUTES:\n",
    "\n",
    "#       name, age, gender, educational_qualification, balance\n",
    "\n",
    "#   METHODS: None\n",
    "\n",
    "# CREATE A \"Banking\" CLASS\n",
    "\n",
    "# MUST INHERIT EVERYTHING FROM \"User\"\n",
    "\n",
    "#   METHODS:\n",
    "\n",
    "#       deposit, withdraw:\n",
    "\n",
    "#       DISPLAY BALANCE EVERY TIME ANY OF THESE FUNCTIONS EXECUTE -->"
   ]
  },
  {
   "cell_type": "markdown",
   "metadata": {},
   "source": [
    "QUESTION 10\n",
    "\n",
    "CREATE A \"User\" CLASS\n",
    "\n",
    "  ATTRIBUTES:\n",
    "\n",
    "      name, age, gender, educational_qualification, balance\n",
    "\n",
    "  METHODS: None\n",
    "\n",
    "CREATE A \"Banking\" CLASS\n",
    "\n",
    "MUST INHERIT EVERYTHING FROM \"User\"\n",
    "\n",
    "  METHODS:\n",
    "\n",
    "      deposit, withdraw:\n",
    "\n",
    "      DISPLAY BALANCE EVERY TIME ANY OF THESE FUNCTIONS EXECUTE"
   ]
  },
  {
   "cell_type": "code",
   "execution_count": 4,
   "metadata": {},
   "outputs": [
    {
     "name": "stdout",
     "output_type": "stream",
     "text": [
      "enter the amount you want to deposit\n",
      "100\n",
      "current balance: 10100\n",
      "enter the amount you want to withdraw\n",
      "1000\n",
      "current balance: 9100\n"
     ]
    }
   ],
   "source": [
    "class User(object):\n",
    "    def __init__(self, name, age, gender, educational_qualification, balance):\n",
    "        self.name = name\n",
    "        self.age = age\n",
    "        self.gender = gender\n",
    "        self.educational_qualification = educational_qualification  \n",
    "        self.balance = balance\n",
    "    \n",
    "class Banking(User):\n",
    "    \n",
    "#     @classmethod\n",
    "#     def update(cls, value):\n",
    "#         cls.balance += value\n",
    "        \n",
    "    def deposit(self):\n",
    "        print(\"enter the amount you want to deposit\")\n",
    "        amount = int(input())\n",
    "        self.balance += amount\n",
    "        print(\"current balance: {}\".format(self.balance))\n",
    "        \n",
    "    def withdraw(self):\n",
    "        print(\"enter the amount you want to withdraw\")\n",
    "        amount = int(input())\n",
    "        if self.balance > amount:\n",
    "            \n",
    "            self.balance -= amount\n",
    "            print(\"current balance: {}\".format(self.balance))\n",
    "        else:\n",
    "            print(\"Low Balance\")\n",
    "    \n",
    "bank = Banking(\"kush\", 27, \"male\", \"BCA\", 10000)\n",
    "bank.deposit()\n",
    "bank.withdraw()"
   ]
  },
  {
   "cell_type": "code",
   "execution_count": null,
   "metadata": {},
   "outputs": [],
   "source": []
  }
 ],
 "metadata": {
  "kernelspec": {
   "display_name": "Python 3",
   "language": "python",
   "name": "python3"
  },
  "language_info": {
   "codemirror_mode": {
    "name": "ipython",
    "version": 3
   },
   "file_extension": ".py",
   "mimetype": "text/x-python",
   "name": "python",
   "nbconvert_exporter": "python",
   "pygments_lexer": "ipython3",
   "version": "3.8.5"
  }
 },
 "nbformat": 4,
 "nbformat_minor": 4
}
